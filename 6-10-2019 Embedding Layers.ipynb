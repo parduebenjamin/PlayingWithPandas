{
 "cells": [
  {
   "cell_type": "code",
   "execution_count": 21,
   "metadata": {},
   "outputs": [
    {
     "name": "stdout",
     "output_type": "stream",
     "text": [
      "import complete\n",
      "DF compiled\n",
      "138,493 distinct users rated 26,744 distinct movies (total ratings = 20,000,263)\n"
     ]
    }
   ],
   "source": [
    "import numpy as np\n",
    "import pandas as pd\n",
    "from matplotlib import pyplot as plt\n",
    "import tensorflow as tf\n",
    "from tensorflow import keras\n",
    "import os\n",
    "import random\n",
    "print('import complete')\n",
    "\n",
    "tf.set_random_seed(1); np.random.seed(1); random.seed(1) #set random seeds for reproducibility\n",
    "\n",
    "inputDir = \"C:\\\\Users\\\\u1189580\\\\Downloads\\\\movielens-20m-dataset\"\n",
    "ratingsPath = os.path.join(inputDir, 'rating.csv')\n",
    "ratingsDF = pd.read_csv(ratingsPath, usecols=['userId', 'movieId', 'rating'])\n",
    "moviesDf = pd.read_csv(os.path.join(inputDir, 'movie.csv'), usecols=['movieId', 'Title', 'Year'])\n",
    "df = ratingsDF.merge(moviesDf, on='movieId').sort_values(by='userId')\n",
    "#the mean rating: 3.5255285642993797\n",
    "df['y'] = df['rating'].astype(float) - 3.5255285642993797\n",
    "print('DF compiled')\n",
    "\n",
    "nMovies = len(df.movieId.unique())\n",
    "nUsers = len(df.userId.unique())\n",
    "print(\"{1:,} distinct users rated {0:,} distinct movies (total ratings = {2:,})\".format(nMovies, nUsers, len(df)))\n"
   ]
  },
  {
   "cell_type": "code",
   "execution_count": null,
   "metadata": {},
   "outputs": [],
   "source": []
  },
  {
   "cell_type": "code",
   "execution_count": null,
   "metadata": {},
   "outputs": [],
   "source": []
  },
  {
   "cell_type": "code",
   "execution_count": null,
   "metadata": {},
   "outputs": [],
   "source": []
  },
  {
   "cell_type": "code",
   "execution_count": null,
   "metadata": {},
   "outputs": [
    {
     "name": "stdout",
     "output_type": "stream",
     "text": [
      "________________________________________________________________________________________\n",
      "Layer (type)                 Output Shape       Param #   Connected to                  \n",
      "========================================================================================\n",
      "user_id (InputLayer)         (None, 1)          0                                       \n",
      "________________________________________________________________________________________\n",
      "movie_id (InputLayer)        (None, 1)          0                                       \n",
      "________________________________________________________________________________________\n",
      "user_embeding (Embedding)    (None, 1, 8)       1107952   user_id[0][0]                 \n",
      "________________________________________________________________________________________\n",
      "movie_embeding (Embedding)   (None, 1, 8)       1050104   movie_id[0][0]                \n",
      "________________________________________________________________________________________\n",
      "concatenate_4 (Concatenate)  (None, 1, 16)      0         user_embeding[0][0]           \n",
      "                                                          movie_embeding[0][0]          \n",
      "________________________________________________________________________________________\n",
      "flatten_3 (Flatten)          (None, 16)         0         concatenate_4[0][0]           \n",
      "________________________________________________________________________________________\n",
      "dense_2 (Dense)              (None, 32)         544       flatten_3[0][0]               \n",
      "________________________________________________________________________________________\n",
      "dense_3 (Dense)              (None, 4)          132       dense_2[0][0]                 \n",
      "________________________________________________________________________________________\n",
      "prediction (Dense)           (None, 1)          5         dense_3[0][0]                 \n",
      "========================================================================================\n",
      "Total params: 2,158,737\n",
      "Trainable params: 2,158,737\n",
      "Non-trainable params: 0\n",
      "________________________________________________________________________________________\n",
      "WARNING:tensorflow:From C:\\Users\\u1189580\\AppData\\Local\\Continuum\\anaconda3\\lib\\site-packages\\tensorflow\\python\\keras\\utils\\losses_utils.py:170: to_float (from tensorflow.python.ops.math_ops) is deprecated and will be removed in a future version.\n",
      "Instructions for updating:\n",
      "Use tf.cast instead.\n",
      "WARNING:tensorflow:From C:\\Users\\u1189580\\AppData\\Local\\Continuum\\anaconda3\\lib\\site-packages\\tensorflow\\python\\ops\\math_ops.py:3066: to_int32 (from tensorflow.python.ops.math_ops) is deprecated and will be removed in a future version.\n",
      "Instructions for updating:\n",
      "Use tf.cast instead.\n"
     ]
    }
   ],
   "source": [
    "hidden_units = (32,4)\n",
    "movie_embedding_size = 8\n",
    "user_embedding_size = 8\n",
    "\n",
    "#each instance will consist of two inputs: a single user is and a single movie ID\n",
    "user_id_input = keras.Input(shape=(1,), name = 'user_id')\n",
    "movie_id_input = keras.Input(shape=(1,), name = 'movie_id')\n",
    "user_embedded = keras.layers.Embedding(df.userId.max()+1, user_embedding_size,\n",
    "                                     input_length = 1, name = 'user_embeding')(user_id_input)\n",
    "movie_embedded = keras.layers.Embedding(df.movieId.max()+1, movie_embedding_size,\n",
    "                                      input_length = 1, name='movie_embeding')(movie_id_input)\n",
    "#concatenate the embeddings (and remove the useless extra dimension)\n",
    "concatenated = keras.layers.Concatenate()([user_embedded, movie_embedded])\n",
    "out = keras.layers.Flatten()(concatenated)\n",
    "\n",
    "#add one or more hidden layers\n",
    "for n_hidden in hidden_units:\n",
    "    out = keras.layers.Dense(n_hidden, activation = 'relu')(out)\n",
    "\n",
    "#a single output: our predicted rating\n",
    "out = keras.layers.Dense(1, activation='linear', name='prediction')(out)\n",
    "\n",
    "model = keras.Model(\n",
    "        inputs = [user_id_input, movie_id_input],\n",
    "        outputs = out,)\n",
    "model.summary(line_length=88)\n",
    "\n",
    "model.compile(tf.train.AdamOptimizer(0.005),loss='MSE',metrics=['MAE'])\n",
    "\n",
    "history = model.fit(\n",
    "    [df.userId, df.movieId],\n",
    "    df.y,\n",
    "    batch_size=5000,\n",
    "    epochs=20,\n",
    "    verbose=0,\n",
    "    validation_split=0.5,\n",
    ");"
   ]
  },
  {
   "cell_type": "code",
   "execution_count": null,
   "metadata": {},
   "outputs": [],
   "source": [
    "from sklearn.model_selection import train_test_split\n",
    "from sklearn import metrics\n",
    "\n",
    "df_train, df_val = train_test_split(df, test_size=.05, random_state=1)\n",
    "\n",
    "def get_metrics(y_true, y_pred):\n",
    "    return metrics.mean_absolute_error(y_true, y_pred), metrics.mean_squared_error(y_true, y_pred)\n",
    "\n",
    "mean_rating = df_train['rating'].mean()\n",
    "print(\"Average rating in training set is {:.2f} stars\".format(mean_rating))\n",
    "\n",
    "y_true = df_val['rating'].values\n",
    "always_mean = np.full(y_true.shape, mean_rating)\n",
    "\n",
    "mae, mse = get_metrics(y_true, always_mean)\n",
    "print(\"Always predicting global average rating results in Mean Absolute Error={:.2f}, Mean Squared Error={:.2f}\".format(\n",
    "    mae, mse))\n",
    "\n",
    "movies = movies_df.copy().set_index('movieId')\n",
    "mean_per_movie = df_train.groupby('movieId')['rating'].mean()\n",
    "movies['mean_rating'] = mean_per_movie\n",
    "ratings_per_movie = df_train.groupby('movieId').size()\n",
    "movies['n_ratings'] = ratings_per_movie\n",
    "# There are a few movies in the validation set not present in the training set. We'll just use the global\n",
    "# mean rating in their case.\n",
    "y_movie_mean = df_val.join(mean_per_movie, on='movieId', rsuffix='mean')['ratingmean'].fillna(mean_rating).values\n",
    "\n",
    "mae, mse = get_metrics(y_true, y_movie_mean)\n",
    "print(\"Predicting mean per movie results in Mean Absolute Error={:.2f}, Mean Squared Error={:.2f}\".format(mae, mse))\n",
    "\n",
    "fig, ax = plt.subplots(figsize=(15, 6))\n",
    "ax.plot(history.epoch, history.history['val_mean_absolute_error'], label='Validation MAE')\n",
    "ax.plot(history.epoch, history.history['mean_absolute_error'], label='Training MAE')\n",
    "ax.set_xlabel('Epoch')\n",
    "ax.set_ylabel('Mean Absolute Error')\n",
    "ax.set_xlim(left=0, right=history.epoch[-1])\n",
    "baseline_mae = 0.73\n",
    "ax.axhline(baseline_mae, ls='--', label='Baseline', color='#002255', alpha=.5)\n",
    "ax.grid()\n",
    "fig.legend();"
   ]
  },
  {
   "cell_type": "code",
   "execution_count": null,
   "metadata": {},
   "outputs": [],
   "source": []
  }
 ],
 "metadata": {
  "kernelspec": {
   "display_name": "Python 3",
   "language": "python",
   "name": "python3"
  },
  "language_info": {
   "codemirror_mode": {
    "name": "ipython",
    "version": 3
   },
   "file_extension": ".py",
   "mimetype": "text/x-python",
   "name": "python",
   "nbconvert_exporter": "python",
   "pygments_lexer": "ipython3",
   "version": "3.6.8"
  }
 },
 "nbformat": 4,
 "nbformat_minor": 2
}
