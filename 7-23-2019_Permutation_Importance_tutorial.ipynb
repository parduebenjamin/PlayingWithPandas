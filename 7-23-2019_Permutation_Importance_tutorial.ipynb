{
 "cells": [
  {
   "cell_type": "code",
   "execution_count": 10,
   "metadata": {},
   "outputs": [
    {
     "name": "stdout",
     "output_type": "stream",
     "text": [
      "import complete \n",
      "\n",
      "data sample: \n",
      "                              key  fare_amount          pickup_datetime  \\\n",
      "2   2011-08-18 00:35:00.00000049          5.7  2011-08-18 00:35:00 UTC   \n",
      "3    2012-04-21 04:30:42.0000001          7.7  2012-04-21 04:30:42 UTC   \n",
      "4  2010-03-09 07:51:00.000000135          5.3  2010-03-09 07:51:00 UTC   \n",
      "6    2012-11-20 20:35:00.0000001          7.5  2012-11-20 20:35:00 UTC   \n",
      "7   2012-01-04 17:22:00.00000081         16.5  2012-01-04 17:22:00 UTC   \n",
      "\n",
      "   pickup_longitude  pickup_latitude  dropoff_longitude  dropoff_latitude  \\\n",
      "2        -73.982738        40.761270         -73.991242         40.750562   \n",
      "3        -73.987130        40.733143         -73.991567         40.758092   \n",
      "4        -73.968095        40.768008         -73.956655         40.783762   \n",
      "6        -73.980002        40.751662         -73.973802         40.764842   \n",
      "7        -73.951300        40.774138         -73.990095         40.751048   \n",
      "\n",
      "   passenger_count  \n",
      "2                2  \n",
      "3                1  \n",
      "4                1  \n",
      "6                1  \n",
      "7                1  \n"
     ]
    }
   ],
   "source": [
    "import numpy as np\n",
    "import pandas as pd\n",
    "from sklearn.model_selection import train_test_split\n",
    "from sklearn.ensemble import RandomForestClassifier, RandomForestRegressor\n",
    "from sklearn.linear_model import LinearRegression\n",
    "import eli5\n",
    "from eli5.sklearn import PermutationImportance\n",
    "print('import complete', '\\n')\n",
    "\n",
    "#dataPath = \"C:\\\\Users\\\\u1189580\\\\Downloads\\\\FIFA 2018 Statistics.csv\"\n",
    "#testData = pd.read_csv(dataPath)\n",
    "#y = (testData['Man of the Match'] == \"Yes\") #convert from string \"Yes\"/\"No\" to binary\n",
    "#featureNames = [i for i in testData.columns if testData[i].dtype in [np.int64]]\n",
    "#x = testData[featureNames]\n",
    "#train_x, val_x, train_y, val_y = train_test_split(x, y, random_state = 1)\n",
    "#myModel = RandomForestClassifier(random_state = 0).fit(train_x, train_y)\n",
    "\n",
    "#perm = PermutationImportance(myModel, random_state = 1).fit(val_x,val_y)\n",
    "#eli5.show_weights(perm, feature_names = val_x.columns.tolist())\n",
    "\n",
    "taxiPath = \"C:\\\\Users\\\\u1189580\\\\Downloads\\\\taxi_pred\\\\train.csv\"\n",
    "taxiData = pd.read_csv(taxiPath)\n",
    "taxiData = taxiData.query('pickup_latitude > 40.7 and pickup_latitude < 40.8 and ' +\n",
    "                  'dropoff_latitude > 40.7 and dropoff_latitude < 40.8 and ' +\n",
    "                  'pickup_longitude > -74 and pickup_longitude < -73.9 and ' +\n",
    "                  'dropoff_longitude > -74 and dropoff_longitude < -73.9 and ' +\n",
    "                  'fare_amount > 0')\n",
    "y = taxiData.fare_amount\n",
    "baseFeatures = ['pickup_longitude',\n",
    "                 'pickup_latitude',\n",
    "                 'dropoff_longitude',\n",
    "                 'dropoff_latitude',\n",
    "                 'passenger_count']\n",
    "x = taxiData[baseFeatures]\n",
    "trainX, valX, trainY, valY = train_test_split(x, y, random_state = 1)\n",
    "firstModel = RandomForestRegressor(n_estimators = 30, random_state=1).fit(trainX, trainY)\n",
    "\n",
    "#print(\"data sample:\",\"\\n\",taxiData.head())\n"
   ]
  },
  {
   "cell_type": "code",
   "execution_count": 12,
   "metadata": {},
   "outputs": [
    {
     "data": {
      "text/plain": [
       "count    23466.000000\n",
       "mean         8.472539\n",
       "std          4.609747\n",
       "min          0.010000\n",
       "25%          5.500000\n",
       "50%          7.500000\n",
       "75%         10.100000\n",
       "max        165.000000\n",
       "Name: fare_amount, dtype: float64"
      ]
     },
     "execution_count": 12,
     "metadata": {},
     "output_type": "execute_result"
    }
   ],
   "source": [
    "trainY.describe()"
   ]
  },
  {
   "cell_type": "code",
   "execution_count": null,
   "metadata": {},
   "outputs": [],
   "source": []
  }
 ],
 "metadata": {
  "kernelspec": {
   "display_name": "Python 3",
   "language": "python",
   "name": "python3"
  },
  "language_info": {
   "codemirror_mode": {
    "name": "ipython",
    "version": 3
   },
   "file_extension": ".py",
   "mimetype": "text/x-python",
   "name": "python",
   "nbconvert_exporter": "python",
   "pygments_lexer": "ipython3",
   "version": "3.7.3"
  }
 },
 "nbformat": 4,
 "nbformat_minor": 2
}
