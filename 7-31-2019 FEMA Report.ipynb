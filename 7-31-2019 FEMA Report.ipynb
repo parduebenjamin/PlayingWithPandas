{
 "cells": [
  {
   "cell_type": "code",
   "execution_count": null,
   "metadata": {},
   "outputs": [
    {
     "name": "stdout",
     "output_type": "stream",
     "text": [
      "import complete \n",
      "\n",
      "df created\n"
     ]
    }
   ],
   "source": [
    "import numpy as np\n",
    "import pandas as pd\n",
    "import pandas_profiling as pp\n",
    "print('import complete', '\\n')\n",
    "\n",
    "femaPath = \"C:\\\\Users\\\\u1189580\\\\Downloads\\\\openfema_claims20190331\\\\openfema_claims20190331.csv\"\n",
    "profilePath = \"C:\\\\Users\\\\u1189580\\\\Downloads\\\\openfema_claims20190331\\\\openfema_profile.html\"\n",
    "femaData = pd.read_csv(femaPath, dtype={'dep': str, 'code insee': str}, encoding='UTF-8')\n",
    "print('df created')\n",
    "\n",
    "femaProfile = femaData.profile_report(title = \"Fema Data\")\n",
    "#femaProfile = pp.ProfileReport(femaData, check_correlation = False)\n",
    "print('profile generated')\n",
    "femaProfile.to_file(output_file = profilePath)\n",
    "print('profile saved')"
   ]
  },
  {
   "cell_type": "code",
   "execution_count": null,
   "metadata": {},
   "outputs": [],
   "source": []
  }
 ],
 "metadata": {
  "kernelspec": {
   "display_name": "Python 3",
   "language": "python",
   "name": "python3"
  },
  "language_info": {
   "codemirror_mode": {
    "name": "ipython",
    "version": 3
   },
   "file_extension": ".py",
   "mimetype": "text/x-python",
   "name": "python",
   "nbconvert_exporter": "python",
   "pygments_lexer": "ipython3",
   "version": "3.7.3"
  }
 },
 "nbformat": 4,
 "nbformat_minor": 2
}
