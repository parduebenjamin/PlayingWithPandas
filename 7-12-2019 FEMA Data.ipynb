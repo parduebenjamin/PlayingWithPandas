{
 "cells": [
  {
   "cell_type": "code",
   "execution_count": 1,
   "metadata": {},
   "outputs": [
    {
     "name": "stdout",
     "output_type": "stream",
     "text": [
      "import complete \n",
      "\n"
     ]
    },
    {
     "name": "stderr",
     "output_type": "stream",
     "text": [
      "C:\\Users\\u1189580\\AppData\\Local\\Continuum\\anaconda3\\lib\\site-packages\\IPython\\core\\interactiveshell.py:3049: DtypeWarning: Columns (0,11,15,22,23,31,32,37) have mixed types. Specify dtype option on import or set low_memory=False.\n",
      "  interactivity=interactivity, compiler=compiler, result=result)\n"
     ]
    },
    {
     "name": "stdout",
     "output_type": "stream",
     "text": [
      "\n",
      " end of line\n"
     ]
    }
   ],
   "source": [
    "import pandas as pd\n",
    "import sklearn\n",
    "print('import complete', '\\n')\n",
    "\n",
    "femaDataPath = \"C:\\\\Users\\\\u1189580\\\\Downloads\\\\openfema_claims20190331\\\\openfema_claims20190331.csv\"\n",
    "\n",
    "femaData = pd.read_csv(femaDataPath, na_values = [\" \"])\n",
    "\n",
    "print('\\n','end of line')"
   ]
  },
  {
   "cell_type": "code",
   "execution_count": 2,
   "metadata": {},
   "outputs": [
    {
     "name": "stdout",
     "output_type": "stream",
     "text": [
      "mean building claim all states = $ 23611.312998885016\n",
      "mean contents claim all states = $ 7728.685364815601\n",
      "\n",
      "\n",
      "Average CA building claim = $ 10277.494188201692\n",
      "Average CA contents claim = $ 3301.159707945222\n",
      "\n",
      "\n",
      "Average building claim of FL house of worship = $ 17913.977083333346\n",
      "Average contents claim of FL house of worship = $ 5864.133454106277\n",
      "Average building claim of FL excluding houses of worship = $ 29536.069020348095\n",
      "Average contents claim of FL excluding houses of worship = $ 6816.054640479362\n"
     ]
    }
   ],
   "source": [
    "#femaData.head()\n",
    "#print(femaData.columns.values)\n",
    "#print('Average CA Loss = ', femaData[femaData['state'] = 'CA'['amountpaidonbuildingclaim'].dropna().mean()])\n",
    "print('mean building claim all states = $', femaData['amountpaidonbuildingclaim'].mean())\n",
    "print('mean contents claim all states = $', femaData['amountpaidoncontentsclaim'].mean())\n",
    "print('\\n')\n",
    "\n",
    "print('Average CA building claim = $', femaData[femaData['state']=='CA']['amountpaidonbuildingclaim'].mean())\n",
    "print('Average CA contents claim = $', femaData[femaData['state']=='CA']['amountpaidoncontentsclaim'].mean())\n",
    "print('\\n')\n",
    "\n",
    "#print(femaData.houseworship.unique())\n",
    "floridaClaims = femaData[femaData['state']=='FL']\n",
    "print('Average building claim of FL house of worship = $', floridaClaims[floridaClaims['houseworship']=='Y']['amountpaidonbuildingclaim'].mean())\n",
    "print('Average contents claim of FL house of worship = $', floridaClaims[floridaClaims['houseworship']=='Y']['amountpaidoncontentsclaim'].mean())\n",
    "print('Average building claim of FL excluding houses of worship = $', floridaClaims[floridaClaims['houseworship']=='N']['amountpaidonbuildingclaim'].mean())\n",
    "print('Average contents claim of FL excluding houses of worship = $', floridaClaims[floridaClaims['houseworship']=='N']['amountpaidoncontentsclaim'].mean())\n"
   ]
  },
  {
   "cell_type": "code",
   "execution_count": 7,
   "metadata": {},
   "outputs": [
    {
     "name": "stdout",
     "output_type": "stream",
     "text": [
      "['agriculturestructureindicator' 'asofdate' 'basefloodelevation'\n",
      " 'basementenclosurecrawlspacetype' 'reportedcity' 'condominiumindicator'\n",
      " 'policycount' 'countycode' 'crsdiscount' 'dateofloss'\n",
      " 'elevatedbuildingindicator' 'elevationcertificateindicator'\n",
      " 'elevationdifference' 'censustract' 'floodzone' 'houseworship' 'latitude'\n",
      " 'locationofcontents' 'longitude' 'lowestadjacentgrade'\n",
      " 'lowestfloorelevation' 'numberoffloorsintheinsuredbuilding'\n",
      " 'nonprofitindicator' 'obstructiontype' 'occupancytype'\n",
      " 'originalconstructiondate' 'originalnbdate' 'amountpaidonbuildingclaim'\n",
      " 'amountpaidoncontentsclaim' 'amountpaidonincreasedcostofcomplianceclaim'\n",
      " 'postfirmconstructionindicator' 'ratemethod'\n",
      " 'smallbusinessindicatorbuilding' 'state' 'totalbuildinginsurancecoverage'\n",
      " 'totalcontentsinsurancecoverage' 'yearofloss' 'reportedzipcode'\n",
      " 'primaryresidence']\n"
     ]
    }
   ],
   "source": [
    "#floridaClaims.head()\n",
    "print(femaData.columns.values)\n",
    "femaDataHead = femaData.head(200)\n",
    "femaDataHeadPath = \"C:\\\\Users\\\\u1189580\\\\Downloads\\\\openfema_claims20190331\\\\openfema_claims20190331_head.csv\"\n",
    "femaDataHead.to_csv(femaDataHeadPath)"
   ]
  },
  {
   "cell_type": "code",
   "execution_count": null,
   "metadata": {},
   "outputs": [],
   "source": []
  }
 ],
 "metadata": {
  "kernelspec": {
   "display_name": "Python 3",
   "language": "python",
   "name": "python3"
  },
  "language_info": {
   "codemirror_mode": {
    "name": "ipython",
    "version": 3
   },
   "file_extension": ".py",
   "mimetype": "text/x-python",
   "name": "python",
   "nbconvert_exporter": "python",
   "pygments_lexer": "ipython3",
   "version": "3.7.3"
  }
 },
 "nbformat": 4,
 "nbformat_minor": 2
}
